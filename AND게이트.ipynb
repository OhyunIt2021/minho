{
  "nbformat": 4,
  "nbformat_minor": 0,
  "metadata": {
    "colab": {
      "name": "AND게이트",
      "provenance": [],
      "collapsed_sections": []
    },
    "kernelspec": {
      "name": "python3",
      "display_name": "Python 3"
    },
    "language_info": {
      "name": "python"
    }
  },
  "cells": [
    {
      "cell_type": "markdown",
      "metadata": {
        "id": "6AUu2gZPsnzK"
      },
      "source": [
        "퍼셉트론"
      ]
    },
    {
      "cell_type": "code",
      "metadata": {
        "id": "ov9UzHs_suta"
      },
      "source": [
        "# AND게이트 구현하기\n",
        "# 입력 x1과 x2가 모두 참일때 1을 출력한다.\n",
        "def AND(x1, x2):\n",
        "  w1, w2, theta = 1, 1, 1.9\n",
        "  value = w1*x1 + w2*x2\n",
        "  if value <= theta:\n",
        "    return 0\n",
        "  elif value > theta:\n",
        "    return 1  "
      ],
      "execution_count": 6,
      "outputs": []
    },
    {
      "cell_type": "code",
      "metadata": {
        "colab": {
          "base_uri": "https://localhost:8080/"
        },
        "id": "egoHIdFnt1lt",
        "outputId": "7f76385b-c59e-4c56-9e4a-5f61851049a0"
      },
      "source": [
        "print(AND(1, 1))\n",
        "print(AND(0, 0))\n",
        "print(AND(1, 0))\n",
        "print(AND(0, 1))"
      ],
      "execution_count": 7,
      "outputs": [
        {
          "output_type": "stream",
          "text": [
            "1\n",
            "0\n",
            "0\n",
            "0\n"
          ],
          "name": "stdout"
        }
      ]
    },
    {
      "cell_type": "code",
      "metadata": {
        "id": "DgCvIENOuntq"
      },
      "source": [
        "def NAND(x1, x2):\n",
        "  w1, w2, theta = 1, 1, 1.9\n",
        "  value = w1*x1 + w2*x2\n",
        "  if value <= theta:\n",
        "    return 1\n",
        "  elif value > theta:\n",
        "    return 0  "
      ],
      "execution_count": 10,
      "outputs": []
    },
    {
      "cell_type": "code",
      "metadata": {
        "colab": {
          "base_uri": "https://localhost:8080/"
        },
        "id": "al5DI-lzuvsF",
        "outputId": "7fe81eda-749e-4c64-b536-31ba8af614cc"
      },
      "source": [
        "print(NAND(1, 1))\n",
        "print(NAND(0, 0))\n",
        "print(NAND(1, 0))\n",
        "print(NAND(0, 1))"
      ],
      "execution_count": 12,
      "outputs": [
        {
          "output_type": "stream",
          "text": [
            "0\n",
            "1\n",
            "1\n",
            "1\n"
          ],
          "name": "stdout"
        }
      ]
    },
    {
      "cell_type": "code",
      "metadata": {
        "id": "VF_Staj2u1Ab"
      },
      "source": [
        "def OR(x1, x2):\n",
        "  w1, w2, theta = 1, 1, 1\n",
        "  value = w1*x1 + w2*x2\n",
        "  if value < theta:\n",
        "    return 0\n",
        "  elif value >= theta:\n",
        "    return 1  "
      ],
      "execution_count": 17,
      "outputs": []
    },
    {
      "cell_type": "code",
      "metadata": {
        "colab": {
          "base_uri": "https://localhost:8080/"
        },
        "id": "9Xa11QAXu5oo",
        "outputId": "ecd76d9a-d47e-4f8b-ea03-35d572fa7518"
      },
      "source": [
        "print(OR(1, 1))\n",
        "print(OR(0, 0))\n",
        "print(OR(1, 0))\n",
        "print(OR(0, 1))"
      ],
      "execution_count": 19,
      "outputs": [
        {
          "output_type": "stream",
          "text": [
            "1\n",
            "0\n",
            "1\n",
            "1\n"
          ],
          "name": "stdout"
        }
      ]
    },
    {
      "cell_type": "code",
      "metadata": {
        "id": "UKq19MzrwKr6"
      },
      "source": [
        ""
      ],
      "execution_count": null,
      "outputs": []
    }
  ]
}